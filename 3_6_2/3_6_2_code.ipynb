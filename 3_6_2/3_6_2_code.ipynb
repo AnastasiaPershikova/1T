{
  "nbformat": 4,
  "nbformat_minor": 0,
  "metadata": {
    "colab": {
      "provenance": []
    },
    "kernelspec": {
      "name": "python3",
      "display_name": "Python 3"
    },
    "language_info": {
      "name": "python"
    }
  },
  "cells": [
    {
      "cell_type": "code",
      "source": [
        "#pip install pyspark"
      ],
      "metadata": {
        "id": "viufGSqTbgMO"
      },
      "execution_count": 1,
      "outputs": []
    },
    {
      "cell_type": "code",
      "execution_count": 2,
      "metadata": {
        "id": "P0wmTTWdYpfP"
      },
      "outputs": [],
      "source": [
        "import random\n",
        "from datetime import datetime as dt\n",
        "from datetime import timedelta\n",
        "from pyspark.sql import SparkSession\n",
        "from pyspark.sql.types import StructType, StructField, IntegerType, StringType, DateType, FloatType"
      ]
    },
    {
      "cell_type": "code",
      "source": [
        "spark = SparkSession.builder \\\n",
        "    .appName(\"orders\") \\\n",
        "    .getOrCreate()\n",
        "schema = StructType([\n",
        "    StructField(\"Дата\", DateType(), True),\n",
        "    StructField(\"UserID\", StringType(), True),\n",
        "    StructField(\"Продукт\", StringType(), True),\n",
        "    StructField(\"Количество\", IntegerType(), True),\n",
        "    StructField(\"Цена\", FloatType(), True)\n",
        "])"
      ],
      "metadata": {
        "id": "eBdhuhmXbytt"
      },
      "execution_count": 3,
      "outputs": []
    },
    {
      "cell_type": "code",
      "source": [
        "start_dt = dt.strptime('01.01.2024', '%d.%m.%Y')\n",
        "end_dt = dt.strptime('10.10.2024', '%d.%m.%Y')\n",
        "\n",
        "data =[((start_dt + timedelta(random.randint(0, (end_dt-start_dt).days))),\n",
        "       f'user{random.randint(10,100)}',\n",
        "       random.choice(['banana','apple','kiwi','cucumber','potato']),\n",
        "       random.randint(1,10),\n",
        "       round(random.uniform(50,120),2)) for i in range(1000)]\n",
        "orders = spark.createDataFrame(data, schema)"
      ],
      "metadata": {
        "id": "EZBFyw7Vg9yW"
      },
      "execution_count": 4,
      "outputs": []
    },
    {
      "cell_type": "code",
      "source": [
        "orders.write.csv('orders.csv')"
      ],
      "metadata": {
        "id": "CiI6eiWlPv7I"
      },
      "execution_count": 5,
      "outputs": []
    },
    {
      "cell_type": "code",
      "source": [
        "spark.stop()"
      ],
      "metadata": {
        "id": "eQVLJlvhXf3n"
      },
      "execution_count": 6,
      "outputs": []
    }
  ]
}